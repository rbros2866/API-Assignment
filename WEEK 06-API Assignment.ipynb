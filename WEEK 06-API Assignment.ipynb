{
 "cells": [
  {
   "cell_type": "markdown",
   "id": "f6e3b812",
   "metadata": {},
   "source": [
    "**Q1.** What is an API? Give an example, where an API is used in real life."
   ]
  },
  {
   "cell_type": "markdown",
   "id": "d9f70033",
   "metadata": {},
   "source": [
    "An API (Application Programming Interface) is a set of rules and protocols that allows different software applications to communicate and interact with each other. It defines the methods and data formats that applications can use to request and exchange information, enabling seamless integration and functionality between diverse systems."
   ]
  },
  {
   "cell_type": "markdown",
   "id": "1aa46a87",
   "metadata": {},
   "source": [
    "**Weather Applications:** Weather applications use APIs provided by weather services to access real-time weather data, forecasts, and other weather-related information to display on their platforms.\n",
    "\n",
    "**Online Payment Systems:** Payment gateways and online payment systems use APIs to securely process payment information between the user, merchant, and the financial institution, ensuring smooth transactions.\n",
    "\n",
    "**Google Maps:** The Google Maps API enables developers to integrate maps, geolocation services, and directions into their applications, helping users find locations and plan routes.\n",
    "\n",
    "**E-commerce Integrations:** Online marketplaces often provide APIs to allow third-party sellers to manage their inventory, pricing, and orders directly from their own systems, streamlining the selling process."
   ]
  },
  {
   "cell_type": "markdown",
   "id": "f6a2ec39",
   "metadata": {},
   "source": [
    "**Q2.** Give advantages and disadvantages of using API."
   ]
  },
  {
   "cell_type": "markdown",
   "id": "8ea4be50",
   "metadata": {},
   "source": [
    "**Advantages of using API:**\n",
    "\n",
    "**Interoperability:** APIs facilitate communication and data exchange between different software systems, enabling interoperability and seamless integration. This allows developers to leverage the functionalities of other applications without reinventing the wheel.\n",
    "\n",
    "**Scalability:** APIs allow services to be scaled independently. Applications can handle increased demand by relying on the APIs to handle specific tasks, which helps distribute the workload and maintain performance.\n",
    "\n",
    "**Rapid Development:** Implementing APIs accelerates software development by providing pre-built functionalities. Developers can focus on specific aspects of their application, reducing development time and overall costs.\n",
    "\n",
    "**Disadvantages of using API:**\n",
    "\n",
    "**Security Risks:** Exposing APIs to third-party access can introduce security vulnerabilities if not properly designed and secured. Without adequate authentication and access controls, APIs may be susceptible to data breaches and unauthorized access.\n",
    "\n",
    "**Dependency on External Services:** When applications rely heavily on external APIs, any changes or disruptions to those APIs can directly impact the functionality of the dependent applications. This dependency can result in unexpected failures or downtime.\n",
    "\n",
    "**Compatibility Concerns:** As APIs evolve, backward compatibility may not always be guaranteed. Developers using older versions of an API might face challenges if they need to update their applications to work with the latest API version, requiring additional development efforts.\n"
   ]
  },
  {
   "cell_type": "markdown",
   "id": "03040792",
   "metadata": {},
   "source": [
    "**Q3.** What is a Web API? Differentiate between API and Web API."
   ]
  },
  {
   "cell_type": "markdown",
   "id": "b3fc6ad8",
   "metadata": {},
   "source": [
    "**Web API (Web Application Programming Interface):**\n",
    "\n",
    "A Web API, also known as a Web Service API, is a type of API specifically designed to be used over the internet through HTTP (Hypertext Transfer Protocol). It enables communication and data exchange between different web-based systems and allows web applications to interact with external services or resources. Web APIs are typically based on REST (Representational State Transfer) architecture and use standard HTTP methods like GET, POST, PUT, DELETE to perform operations on resources."
   ]
  },
  {
   "cell_type": "markdown",
   "id": "3b33fd1d",
   "metadata": {},
   "source": [
    "**Difference between API and Web API:**\n",
    "\n",
    "**Scope of Usage:**\n",
    "\n",
    "API: APIs can be implemented in various contexts, including desktop applications, mobile apps, databases, and more.\n",
    "\n",
    "Web API: Web APIs are specifically designed for web-based applications and operate over the internet using HTTP.\n",
    "\n",
    "**Protocol:**\n",
    "\n",
    "API: APIs can use various communication protocols, not limited to HTTP. They can use protocols like TCP/IP, SOAP, XML-RPC, etc.\n",
    "\n",
    "Web API: Web APIs are exclusively based on HTTP and typically use RESTful principles for communication.\n",
    "\n",
    "**Communication Medium:**\n",
    "\n",
    "API: APIs can facilitate communication between various types of applications, whether they are web-based or not.\n",
    "\n",
    "Web API: Web APIs are specifically meant for communication between web-based applications and web servers.\n",
    "\n",
    "**Integration:**\n",
    "\n",
    "API: APIs can enable integration between different types of systems, including web applications, databases, hardware devices, etc.\n",
    "\n",
    "Web API: Web APIs mainly focus on integrating web services with other web applications or allowing web applications to access external resources."
   ]
  },
  {
   "cell_type": "markdown",
   "id": "ca8fcf89",
   "metadata": {},
   "source": [
    "**Q4.** Explain REST and SOAP Architecture. Mention shortcomings of SOAP."
   ]
  },
  {
   "cell_type": "markdown",
   "id": "f10f564e",
   "metadata": {},
   "source": [
    "**REST Architecture:**\n",
    "\n",
    "Represents a style for designing web services.\n",
    "\n",
    "Uses standard HTTP methods (GET, POST, PUT, DELETE) to interact with resources.\n",
    "\n",
    "Stateless, each request contains all necessary information.\n",
    "\n",
    "**SOAP Architecture:**\n",
    "\n",
    "A protocol for exchanging structured information in web services.\n",
    "\n",
    "Utilizes XML messages for communication.\n",
    "\n",
    "More complex, stateful, and XML-based, leading to higher overhead and potential performance issues.\n",
    "\n",
    "**Shortcomings of SOAP:**\n",
    "\n",
    "Complexity and verbosity due to XML.\n",
    "\n",
    "Performance overhead.\n",
    "\n",
    "Limited language support.\n",
    "\n",
    "Potential firewall and proxy issues.\n",
    "\n",
    "Lack of human-readability for debugging.\n"
   ]
  },
  {
   "cell_type": "markdown",
   "id": "e6aa4794",
   "metadata": {},
   "source": [
    "**Q5.** Differentiate between REST and SOAP."
   ]
  },
  {
   "cell_type": "markdown",
   "id": "12b5a843",
   "metadata": {},
   "source": [
    "**REST:**\n",
    "\n",
    "Architecture style for web services.\n",
    "\n",
    "Uses standard HTTP methods (GET, POST, PUT, DELETE).\n",
    "\n",
    "Lightweight data interchange formats like JSON.\n",
    "\n",
    "Stateless, each request contains all needed info.\n",
    "\n",
    "Better performance and flexibility.\n",
    "\n",
    "**SOAP:**\n",
    "\n",
    "Communication protocol for web services.\n",
    "\n",
    "XML-based message format.\n",
    "\n",
    "Can support stateful operations.\n",
    "\n",
    "Formal structure and rules for processing.\n",
    "\n",
    "Higher processing overhead, less flexible."
   ]
  },
  {
   "cell_type": "code",
   "execution_count": null,
   "id": "f5e30e03",
   "metadata": {},
   "outputs": [],
   "source": []
  }
 ],
 "metadata": {
  "kernelspec": {
   "display_name": "Python 3 (ipykernel)",
   "language": "python",
   "name": "python3"
  },
  "language_info": {
   "codemirror_mode": {
    "name": "ipython",
    "version": 3
   },
   "file_extension": ".py",
   "mimetype": "text/x-python",
   "name": "python",
   "nbconvert_exporter": "python",
   "pygments_lexer": "ipython3",
   "version": "3.11.1"
  }
 },
 "nbformat": 4,
 "nbformat_minor": 5
}
